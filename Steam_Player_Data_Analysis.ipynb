{
 "cells": [
  {
   "cell_type": "markdown",
   "metadata": {},
   "source": [
    "# Basic Setup"
   ]
  },
  {
   "cell_type": "markdown",
   "metadata": {},
   "source": [
    "Create a json file in your personal secret folder holding the following information attained from the respective websites:\n",
    "\n",
    "{\"client_id\": \"your unique Steam ID here\", \"api_key\": \"your unique Steam API Key here\"}\n",
    "* Steam API Key -- https://steamcommunity.com/dev/apikey  (will need a Steam log in)\n",
    "* Steam ID -- https://steamidfinder.com/  (will need to enter your personal Steam name)"
   ]
  },
  {
   "cell_type": "code",
   "execution_count": null,
   "metadata": {},
   "outputs": [],
   "source": [
    "import MySQLdb\n",
    "import pandas as pd\n",
    "import json"
   ]
  },
  {
   "cell_type": "code",
   "execution_count": null,
   "metadata": {},
   "outputs": [],
   "source": [
    "\n",
    "def get_keys(path):\n",
    "    with open(path) as f:\n",
    "        return json.load(f)\n",
    "\n",
    "# NOTE: you will need to change the file path to be your own root directory\n",
    "keys = get_keys(\"/Users/laurashummonmaass/.secret/steam_api.json\")\n",
    "\n",
    "client_id = keys['client_id']\n",
    "api_key = keys['api_key']"
   ]
  },
  {
   "cell_type": "markdown",
   "metadata": {},
   "source": [
    "#### Loading & Setting Up SQL File:\n",
    "Our original source file was a sqlite file which we wanted to load into PostGreSQL to be able to work safely locally and not rely on the original file.  We did so through the command line with the help of pgloader.  The steps we took were:\n",
    "* Installing & Setting Up SQL:  \n",
    "    ```brew install sql```   \n",
    "    ```brew install mysql```   \n",
    "    ```brew services start mysql```  \n",
    "    ```mysql -uroot```  \n",
    "    * this opens mysql in terminal\n",
    "* Creating our local database WITHIN mysql in terminal:  \n",
    "    ```CREATE DATABASE steam```   \n",
    "    ```\\q``` \n",
    "    * \\q leaves mysql\n",
    "* Connecting to a Zipped File:  \n",
    "   ```cat steam_file.sql.gz | gunzip | mysql -uroot steam```   \n",
    "   * the steam_file is from the following link:  \n",
    "   https://steam.internet.byu.edu/"
   ]
  },
  {
   "cell_type": "code",
   "execution_count": null,
   "metadata": {},
   "outputs": [],
   "source": [
    "#SHOULD HAVE WORKED, DIDN\"T\n",
    "\n",
    "\n",
    "\n",
    "# conn = MySQLdb.connect(host='localhost', user='laura', password='1234', database='steam')\n",
    "# def query_to_df(query):\n",
    "#     \"\"\"Taking an SQL query, executing it on the database, returning the results in a Pandas Dataframe\"\"\"\n",
    "#     cur = conn.cursor()\n",
    "#     cur.execute(query)\n",
    "#     results = cur.fetchall()\n",
    "#     names = [description[0] for description in cur.description]\n",
    "#     return pd.DataFrame(results)  #columns=names\n",
    "\n",
    "\n",
    "# X = query_to_df('SELECT * FROM Games_Genres')\n",
    "# X.head()"
   ]
  },
  {
   "cell_type": "markdown",
   "metadata": {},
   "source": [
    "### Games_Genres Table in DataFrame"
   ]
  },
  {
   "cell_type": "code",
   "execution_count": null,
   "metadata": {},
   "outputs": [],
   "source": [
    "conn = MySQLdb.connect(host='localhost', user='laura', password='1234', database='steam')\n",
    "cur = conn.cursor()\n",
    "cur.execute('SELECT * FROM Games_Genres')\n",
    "\n",
    "results = cur.fetchall()\n",
    "results2 = list(results)\n",
    "names = [description[0] for description in cur.description]\n",
    "Genres = pd.DataFrame(results2, columns=names)\n",
    "Genres.head()\n",
    "\n",
    "#Testing accuracy \n",
    "#Genres.loc[Genres['appid'] == 414120]"
   ]
  },
  {
   "cell_type": "markdown",
   "metadata": {},
   "source": [
    "* To view all table names in the database:  \n",
    "   ```psql steamdb```  \n",
    "   ```\\dt```"
   ]
  },
  {
   "cell_type": "markdown",
   "metadata": {},
   "source": [
    "### AppID Table in DataFrame"
   ]
  },
  {
   "cell_type": "code",
   "execution_count": null,
   "metadata": {},
   "outputs": [],
   "source": [
    "conn = MySQLdb.connect(host='localhost', user='laura', password='1234', database='steam')\n",
    "cur = conn.cursor()\n",
    "cur.execute('SELECT * FROM App_ID_Info')\n",
    "\n",
    "results = cur.fetchall()\n",
    "results2 = list(results)\n",
    "names = [description[0] for description in cur.description]\n",
    "AppID = pd.DataFrame(results2, columns=names)\n",
    "AppID.head()"
   ]
  },
  {
   "cell_type": "markdown",
   "metadata": {},
   "source": [
    "### Joining Genres and AppID Tables"
   ]
  },
  {
   "cell_type": "code",
   "execution_count": null,
   "metadata": {},
   "outputs": [],
   "source": [
    "conn = MySQLdb.connect(host='localhost', user='laura', password='1234', database='steam')\n",
    "cur = conn.cursor()\n",
    "cur.execute('SELECT * FROM Games_Genres RIGHT JOIN App_ID_Info ON Games_Genres.appid=App_ID_Info.appid')\n",
    "\n",
    "results = cur.fetchall()\n",
    "results2 = list(results)\n",
    "names = [description[0] for description in cur.description]\n",
    "AppID_Genres = pd.DataFrame(results2, columns=names)\n",
    "AppID_Genres.head(50)"
   ]
  },
  {
   "cell_type": "code",
   "execution_count": null,
   "metadata": {},
   "outputs": [],
   "source": [
    "import matplotlib as plt\n",
    "%matplotlib inline\n",
    "\n",
    "hist = AppID_Genres['Rating'].hist(bins=50)\n",
    "hist"
   ]
  },
  {
   "cell_type": "markdown",
   "metadata": {},
   "source": [
    "### Player Tables in DataFrame\n",
    "# TOO BIG DON\"T RUN"
   ]
  },
  {
   "cell_type": "code",
   "execution_count": null,
   "metadata": {},
   "outputs": [],
   "source": [
    "conn = MySQLdb.connect(host='localhost', user='laura', password='1234', database='steam')\n",
    "cur = conn.cursor()\n",
    "cur.execute('SELECT * FROM Player_Summaries')\n",
    "\n",
    "results = cur.fetchall()\n",
    "results2 = list(results)\n",
    "names = [description[0] for description in cur.description]\n",
    "Players = pd.DataFrame(results2, columns=names)\n",
    "Players.head()"
   ]
  },
  {
   "cell_type": "code",
   "execution_count": null,
   "metadata": {},
   "outputs": [],
   "source": []
  }
 ],
 "metadata": {
  "kernelspec": {
   "display_name": "Python 3",
   "language": "python",
   "name": "python3"
  },
  "language_info": {
   "codemirror_mode": {
    "name": "ipython",
    "version": 3
   },
   "file_extension": ".py",
   "mimetype": "text/x-python",
   "name": "python",
   "nbconvert_exporter": "python",
   "pygments_lexer": "ipython3",
   "version": "3.7.1"
  }
 },
 "nbformat": 4,
 "nbformat_minor": 2
}
