{
 "cells": [
  {
   "cell_type": "markdown",
   "metadata": {},
   "source": [
    "# Basic Setup"
   ]
  },
  {
   "cell_type": "markdown",
   "metadata": {},
   "source": [
    "Create a json file in your personal secret folder holding the following information attained from the respective websites:\n",
    "\n",
    "{\"client_id\": \"your unique Steam ID here\", \"api_key\": \"your unique Steam API Key here\"}\n",
    "* Steam API Key -- https://steamcommunity.com/dev/apikey  (will need a Steam log in)\n",
    "* Steam ID -- https://steamidfinder.com/  (will need to enter your personal Steam name)"
   ]
  },
  {
   "cell_type": "code",
   "execution_count": 4,
   "metadata": {},
   "outputs": [],
   "source": [
    "import json\n",
    "\n",
    "def get_keys(path):\n",
    "    with open(path) as f:\n",
    "        return json.load(f)\n",
    "\n",
    "# NOTE: you will need to change the file path to be your own root directory\n",
    "keys = get_keys(\"/Users/laurashummonmaass/.secret/steam_api.json\")\n",
    "\n",
    "client_id = keys['client_id']\n",
    "api_key = keys['api_key']"
   ]
  },
  {
   "cell_type": "markdown",
   "metadata": {},
   "source": [
    "#### Loading & Setting Up SQL File:\n",
    "Our original source file was a sqlite file which we wanted to load into PostGreSQL to be able to work safely locally and not rely on the original file.  We did so through the command line with the help of pgloader.  The steps we took were:\n",
    "* Installing & Setting Up SQL:  \n",
    "    ```brew install sql```   \n",
    "    ```brew install mysql```   \n",
    "    ```brew services start mysql```  \n",
    "    ```mysql -uroot```  \n",
    "    * this opens mysql in terminal\n",
    "* Creating our local database WITHIN mysql in terminal:  \n",
    "    ```CREATE DATABASE steam```   \n",
    "    ```\\q``` \n",
    "    * \\q leaves mysql\n",
    "* Connecting to a Zipped File:  \n",
    "   ```cat steam_file.sql.gz | gunzip | mysql -uroot steam```   \n",
    "   * the steam_file is from the following link:  \n",
    "   https://steam.internet.byu.edu/"
   ]
  },
  {
   "cell_type": "code",
   "execution_count": 7,
   "metadata": {},
   "outputs": [],
   "source": [
    "import MySQLdb\n",
    "conn = MySQLdb.connect(host='localhost', user='laura', password='1234', database='steam')\n",
    "def query_to_df(query):\n",
    "    \"\"\"Taking an SQL query, executing it on the database, returning the results in a Pandas Dataframe\"\"\"\n",
    "    cur = conn.cursor()\n",
    "    cur.execute(query)\n",
    "    results = cur.fetchall()\n",
    "    names = [description[0] for description in cur.description]\n",
    "    return pd.DataFrame(results, columns=names)"
   ]
  },
  {
   "cell_type": "markdown",
   "metadata": {},
   "source": [
    "* To view all table names in the database:  \n",
    "   ```psql steamdb```  \n",
    "   ```\\dt```"
   ]
  },
  {
   "cell_type": "code",
   "execution_count": null,
   "metadata": {},
   "outputs": [],
   "source": [
    "query_to_df()"
   ]
  }
 ],
 "metadata": {
  "kernelspec": {
   "display_name": "Python 3",
   "language": "python",
   "name": "python3"
  },
  "language_info": {
   "codemirror_mode": {
    "name": "ipython",
    "version": 3
   },
   "file_extension": ".py",
   "mimetype": "text/x-python",
   "name": "python",
   "nbconvert_exporter": "python",
   "pygments_lexer": "ipython3",
   "version": "3.7.1"
  }
 },
 "nbformat": 4,
 "nbformat_minor": 2
}
